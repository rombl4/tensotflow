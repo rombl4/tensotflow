{
 "cells": [
  {
   "cell_type": "code",
   "execution_count": 4,
   "metadata": {},
   "outputs": [],
   "source": [
    "30# Import keras library. Also import some of the layers, so we do not need to\n",
    "# write things like \"layers.Dense\", but can just write \"Dense\" instead\n",
    "import os; \n",
    "os.environ['KERAS_BACKEND'] = 'theano'\n",
    "\n",
    "#from keras import *\n",
    "#from keras.models import Sequential\n",
    "#from keras.layers import Dense\n",
    "#from keras.layers.noise import GaussianDropout\n",
    "\n",
    "# Import the numpy library for matrix manipulations etc.\n",
    "from numpy import *\n",
    "\n",
    "# Set up the graphics by importing the matplotlib plotting library\n",
    "import matplotlib.pyplot as plt\n",
    "%matplotlib inline\n",
    "\n",
    "# Set up a random number generator with a fixed seed, so that\n",
    "# running this whole notebook repeatedly should always give\n",
    "# the same result (useful for debugging)\n",
    "rng = random.RandomState(23455)\n",
    "\n",
    "import time\n",
    "\n",
    "\n",
    "from keras.models import Sequential\n",
    "from keras.layers import Dense, Activation\n",
    "\n",
    "model = Sequential([\n",
    "    Dense(32, input_dim=784),\n",
    "    Activation('relu'),\n",
    "    Dense(10),\n",
    "    Activation('softmax'),\n",
    "])         \n",
    "\n"
   ]
  },
  {
   "cell_type": "code",
   "execution_count": 10,
   "metadata": {},
   "outputs": [
    {
     "data": {
      "text/plain": [
       "[<keras.layers.core.Dense at 0x7fefa4be7198>,\n",
       " <keras.layers.core.Activation at 0x7fefb6d43ac8>,\n",
       " <keras.layers.core.Dense at 0x7fefa4bd3668>,\n",
       " <keras.layers.core.Activation at 0x7fefa4c3a390>]"
      ]
     },
     "execution_count": 10,
     "metadata": {},
     "output_type": "execute_result"
    }
   ],
   "source": [
    "model.layers\n",
    "\n",
    "\n"
   ]
  }
 ],
 "metadata": {
  "kernelspec": {
   "display_name": "Python 3",
   "language": "python",
   "name": "python3"
  },
  "language_info": {
   "codemirror_mode": {
    "name": "ipython",
    "version": 3
   },
   "file_extension": ".py",
   "mimetype": "text/x-python",
   "name": "python",
   "nbconvert_exporter": "python",
   "pygments_lexer": "ipython3",
   "version": "3.6.7"
  }
 },
 "nbformat": 4,
 "nbformat_minor": 2
}
